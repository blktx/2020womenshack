{
  "nbformat": 4,
  "nbformat_minor": 0,
  "metadata": {
    "colab": {
      "name": "Linear and Logistics Regression Assignment",
      "provenance": [],
      "authorship_tag": "ABX9TyPeYHkCqbZhqw2yQC5NKyzd",
      "include_colab_link": true
    },
    "kernelspec": {
      "name": "python3",
      "display_name": "Python 3"
    }
  },
  "cells": [
    {
      "cell_type": "markdown",
      "metadata": {
        "id": "view-in-github",
        "colab_type": "text"
      },
      "source": [
        "<a href=\"https://colab.research.google.com/github/blktx/2020womenshack/blob/main/Linear_and_Logistics_Regression_Assignment.ipynb\" target=\"_parent\"><img src=\"https://colab.research.google.com/assets/colab-badge.svg\" alt=\"Open In Colab\"/></a>"
      ]
    },
    {
      "cell_type": "markdown",
      "metadata": {
        "id": "z6wiXmyb7bOE"
      },
      "source": [
        "Linear Regression: \r\n",
        "Simple Linear Regression with Scikit Learn"
      ]
    },
    {
      "cell_type": "code",
      "metadata": {
        "id": "6kTp3T2X4di3"
      },
      "source": [
        "import numpy as np\r\n",
        "from sklearn.linear_model import LinearRegression"
      ],
      "execution_count": 1,
      "outputs": []
    },
    {
      "cell_type": "code",
      "metadata": {
        "id": "DkNmMBKE5B7t"
      },
      "source": [
        "x = np.array([5, 15, 25, 35, 45, 55]).reshape((-1, 1))\r\n",
        "y = np.array([5, 20, 14, 32, 22, 38])"
      ],
      "execution_count": 2,
      "outputs": []
    },
    {
      "cell_type": "code",
      "metadata": {
        "colab": {
          "base_uri": "https://localhost:8080/"
        },
        "id": "zxXzuGIu5-T2",
        "outputId": "33bbc7e4-6fc6-4297-fa98-e641f0e03ecb"
      },
      "source": [
        "print(x)\r\n",
        "print(y)\r\n"
      ],
      "execution_count": 3,
      "outputs": [
        {
          "output_type": "stream",
          "text": [
            "[[ 5]\n",
            " [15]\n",
            " [25]\n",
            " [35]\n",
            " [45]\n",
            " [55]]\n",
            "[ 5 20 14 32 22 38]\n"
          ],
          "name": "stdout"
        }
      ]
    },
    {
      "cell_type": "code",
      "metadata": {
        "id": "ABmS5gBx6gCu"
      },
      "source": [
        "model = LinearRegression()"
      ],
      "execution_count": 4,
      "outputs": []
    },
    {
      "cell_type": "code",
      "metadata": {
        "colab": {
          "base_uri": "https://localhost:8080/"
        },
        "id": "TgSFJGDt6nYX",
        "outputId": "24de1dc2-a6ba-41a1-fb0b-01f3ebbd9655"
      },
      "source": [
        "model.fit(x, y)"
      ],
      "execution_count": 5,
      "outputs": [
        {
          "output_type": "execute_result",
          "data": {
            "text/plain": [
              "LinearRegression(copy_X=True, fit_intercept=True, n_jobs=None, normalize=False)"
            ]
          },
          "metadata": {
            "tags": []
          },
          "execution_count": 5
        }
      ]
    },
    {
      "cell_type": "code",
      "metadata": {
        "id": "M4HeeDv56pPq"
      },
      "source": [
        "model = LinearRegression().fit(x, y)"
      ],
      "execution_count": 6,
      "outputs": []
    },
    {
      "cell_type": "code",
      "metadata": {
        "colab": {
          "base_uri": "https://localhost:8080/"
        },
        "id": "YsCBWHyW6sgi",
        "outputId": "e744dcb9-343e-4ac2-ad70-9c653fe6ba52"
      },
      "source": [
        "r_sq = model.score(x, y)\r\n",
        "print('coefficient of determination:', r_sq)\r\n"
      ],
      "execution_count": 7,
      "outputs": [
        {
          "output_type": "stream",
          "text": [
            "coefficient of determination: 0.7158756137479542\n"
          ],
          "name": "stdout"
        }
      ]
    },
    {
      "cell_type": "code",
      "metadata": {
        "colab": {
          "base_uri": "https://localhost:8080/"
        },
        "id": "9PjzUUuf6xJ6",
        "outputId": "abeed0d2-e0ea-4ee1-d902-ccfc25cd8f68"
      },
      "source": [
        "print('intercept:', model.intercept_)\r\n",
        "print('slope:', model.coef_)"
      ],
      "execution_count": 8,
      "outputs": [
        {
          "output_type": "stream",
          "text": [
            "intercept: 5.633333333333329\n",
            "slope: [0.54]\n"
          ],
          "name": "stdout"
        }
      ]
    },
    {
      "cell_type": "code",
      "metadata": {
        "colab": {
          "base_uri": "https://localhost:8080/"
        },
        "id": "FJ2gcP0g63TA",
        "outputId": "86c5bbf1-58bb-4b8f-e282-87bd9cd62524"
      },
      "source": [
        "new_model = LinearRegression().fit(x, y.reshape((-1, 1)))\r\n",
        "print('intercept:', new_model.intercept_)\r\n",
        "\r\n",
        "print('slope:', new_model.coef_)\r\n"
      ],
      "execution_count": 9,
      "outputs": [
        {
          "output_type": "stream",
          "text": [
            "intercept: [5.63333333]\n",
            "slope: [[0.54]]\n"
          ],
          "name": "stdout"
        }
      ]
    },
    {
      "cell_type": "code",
      "metadata": {
        "colab": {
          "base_uri": "https://localhost:8080/"
        },
        "id": "kPHvcfV566xb",
        "outputId": "a4735c6d-d048-440e-d40c-60c9da1734d3"
      },
      "source": [
        "y_pred = model.predict(x)\r\n",
        "print('predicted response:', y_pred, sep='\\n')"
      ],
      "execution_count": 10,
      "outputs": [
        {
          "output_type": "stream",
          "text": [
            "predicted response:\n",
            "[ 8.33333333 13.73333333 19.13333333 24.53333333 29.93333333 35.33333333]\n"
          ],
          "name": "stdout"
        }
      ]
    },
    {
      "cell_type": "code",
      "metadata": {
        "colab": {
          "base_uri": "https://localhost:8080/"
        },
        "id": "QuRcPbrX67s5",
        "outputId": "4afdec3f-9496-4683-e1d4-aec8b4f27ae0"
      },
      "source": [
        "y_pred = model.intercept_ + model.coef_ * x\r\n",
        "print('predicted response:', y_pred, sep='\\n')"
      ],
      "execution_count": 11,
      "outputs": [
        {
          "output_type": "stream",
          "text": [
            "predicted response:\n",
            "[[ 8.33333333]\n",
            " [13.73333333]\n",
            " [19.13333333]\n",
            " [24.53333333]\n",
            " [29.93333333]\n",
            " [35.33333333]]\n"
          ],
          "name": "stdout"
        }
      ]
    },
    {
      "cell_type": "code",
      "metadata": {
        "colab": {
          "base_uri": "https://localhost:8080/"
        },
        "id": "GBoPAT1p6_Uy",
        "outputId": "0b1f1710-8e8c-4b80-b7e8-088bd1de3b4c"
      },
      "source": [
        "x_new = np.arange(5).reshape((-1, 1))\r\n",
        "print(x_new)\r\n",
        "y_new = model.predict(x_new)\r\n",
        "print(y_new)"
      ],
      "execution_count": 12,
      "outputs": [
        {
          "output_type": "stream",
          "text": [
            "[[0]\n",
            " [1]\n",
            " [2]\n",
            " [3]\n",
            " [4]]\n",
            "[5.63333333 6.17333333 6.71333333 7.25333333 7.79333333]\n"
          ],
          "name": "stdout"
        }
      ]
    },
    {
      "cell_type": "markdown",
      "metadata": {
        "id": "SHmQ0eT97srM"
      },
      "source": [
        "Linear Regression: Multiple Linear Regression With scikit-learn"
      ]
    },
    {
      "cell_type": "code",
      "metadata": {
        "id": "SFCpow3W7z3-"
      },
      "source": [
        "import numpy as np\r\n",
        "from sklearn.linear_model import LinearRegression\r\n",
        "\r\n",
        "x = [[0, 1], [5, 1], [15, 2], [25, 5], [35, 11], [45, 15], [55, 34], [60, 35]]\r\n",
        "y = [4, 5, 20, 14, 32, 22, 38, 43]\r\n",
        "x, y = np.array(x), np.array(y)"
      ],
      "execution_count": 13,
      "outputs": []
    },
    {
      "cell_type": "code",
      "metadata": {
        "colab": {
          "base_uri": "https://localhost:8080/"
        },
        "id": "3Yn-desh77OQ",
        "outputId": "5d3c2e9d-251a-4d2d-e584-a8a1a18f4ec6"
      },
      "source": [
        "print(x)\r\n",
        "print(y)"
      ],
      "execution_count": 14,
      "outputs": [
        {
          "output_type": "stream",
          "text": [
            "[[ 0  1]\n",
            " [ 5  1]\n",
            " [15  2]\n",
            " [25  5]\n",
            " [35 11]\n",
            " [45 15]\n",
            " [55 34]\n",
            " [60 35]]\n",
            "[ 4  5 20 14 32 22 38 43]\n"
          ],
          "name": "stdout"
        }
      ]
    },
    {
      "cell_type": "code",
      "metadata": {
        "id": "Z6ORXaij7_tZ"
      },
      "source": [
        "model = LinearRegression().fit(x, y)"
      ],
      "execution_count": 15,
      "outputs": []
    },
    {
      "cell_type": "code",
      "metadata": {
        "colab": {
          "base_uri": "https://localhost:8080/"
        },
        "id": "fa9pau298DL5",
        "outputId": "4f9c8732-02f3-45fb-834d-b9bd463ecd74"
      },
      "source": [
        "r_sq = model.score(x, y)\r\n",
        "print('coefficient of determination:', r_sq)\r\n",
        "\r\n",
        "print('intercept:', model.intercept_)\r\n",
        "\r\n",
        "print('slope:', model.coef_)\r\n"
      ],
      "execution_count": 16,
      "outputs": [
        {
          "output_type": "stream",
          "text": [
            "coefficient of determination: 0.8615939258756776\n",
            "intercept: 5.52257927519819\n",
            "slope: [0.44706965 0.25502548]\n"
          ],
          "name": "stdout"
        }
      ]
    },
    {
      "cell_type": "code",
      "metadata": {
        "colab": {
          "base_uri": "https://localhost:8080/"
        },
        "id": "DbYxhoBE8IG3",
        "outputId": "18b91c2f-079f-4728-9dbc-2578393a8219"
      },
      "source": [
        "y_pred = model.predict(x)\r\n",
        "print('predicted response:', y_pred, sep='\\n')"
      ],
      "execution_count": 17,
      "outputs": [
        {
          "output_type": "stream",
          "text": [
            "predicted response:\n",
            "[ 5.77760476  8.012953   12.73867497 17.9744479  23.97529728 29.4660957\n",
            " 38.78227633 41.27265006]\n"
          ],
          "name": "stdout"
        }
      ]
    },
    {
      "cell_type": "code",
      "metadata": {
        "colab": {
          "base_uri": "https://localhost:8080/"
        },
        "id": "rHo01dzI8MhE",
        "outputId": "a795d416-f623-4b24-ae12-e07483c98a9d"
      },
      "source": [
        "y_pred = model.intercept_ + np.sum(model.coef_ * x, axis=1)\r\n",
        "print('predicted response:', y_pred, sep='\\n')\r\n"
      ],
      "execution_count": 18,
      "outputs": [
        {
          "output_type": "stream",
          "text": [
            "predicted response:\n",
            "[ 5.77760476  8.012953   12.73867497 17.9744479  23.97529728 29.4660957\n",
            " 38.78227633 41.27265006]\n"
          ],
          "name": "stdout"
        }
      ]
    },
    {
      "cell_type": "code",
      "metadata": {
        "colab": {
          "base_uri": "https://localhost:8080/"
        },
        "id": "UYpaY5Kl8PqI",
        "outputId": "f0b57c45-dd56-4761-aae9-5475a203300b"
      },
      "source": [
        "x_new = np.arange(10).reshape((-1, 2))\r\n",
        "print(x_new)\r\n",
        "\r\n",
        "y_new = model.predict(x_new)\r\n",
        "print(y_new)"
      ],
      "execution_count": 19,
      "outputs": [
        {
          "output_type": "stream",
          "text": [
            "[[0 1]\n",
            " [2 3]\n",
            " [4 5]\n",
            " [6 7]\n",
            " [8 9]]\n",
            "[ 5.77760476  7.18179502  8.58598528  9.99017554 11.3943658 ]\n"
          ],
          "name": "stdout"
        }
      ]
    },
    {
      "cell_type": "markdown",
      "metadata": {
        "id": "jFGCd3Hw8kB9"
      },
      "source": [
        "SECTION TWO"
      ]
    },
    {
      "cell_type": "markdown",
      "metadata": {
        "id": "IepjXVv78m9u"
      },
      "source": [
        "Classifying Models Using the Logistics Regression with Scikit Learn"
      ]
    },
    {
      "cell_type": "markdown",
      "metadata": {
        "id": "M2p6ND_y9Ip4"
      },
      "source": [
        "1. Step One is to importyoru Packages, Functions and Classes"
      ]
    },
    {
      "cell_type": "code",
      "metadata": {
        "id": "xM9Xd5n89A3P"
      },
      "source": [
        "import matplotlib.pyplot as plt\r\n",
        "import numpy as np\r\n",
        "from sklearn.linear_model import LogisticRegression\r\n",
        "from sklearn.metrics import classification_report, confusion_matrix"
      ],
      "execution_count": 20,
      "outputs": []
    },
    {
      "cell_type": "markdown",
      "metadata": {
        "id": "NyAVMlyU9UUX"
      },
      "source": [
        "2. Step two is to Retrieve the Data you are going to work with."
      ]
    },
    {
      "cell_type": "code",
      "metadata": {
        "id": "Hj8TE1_j9dXO"
      },
      "source": [
        "x = np.arange(10).reshape(-1, 1)\r\n",
        "y = np.array([0, 0, 0, 0, 1, 1, 1, 1, 1, 1])"
      ],
      "execution_count": 21,
      "outputs": []
    },
    {
      "cell_type": "code",
      "metadata": {
        "colab": {
          "base_uri": "https://localhost:8080/"
        },
        "id": "f31TiAtC9ivX",
        "outputId": "2da3959b-29e0-41bf-9f32-d81077f92e9e"
      },
      "source": [
        "x"
      ],
      "execution_count": 22,
      "outputs": [
        {
          "output_type": "execute_result",
          "data": {
            "text/plain": [
              "array([[0],\n",
              "       [1],\n",
              "       [2],\n",
              "       [3],\n",
              "       [4],\n",
              "       [5],\n",
              "       [6],\n",
              "       [7],\n",
              "       [8],\n",
              "       [9]])"
            ]
          },
          "metadata": {
            "tags": []
          },
          "execution_count": 22
        }
      ]
    },
    {
      "cell_type": "code",
      "metadata": {
        "colab": {
          "base_uri": "https://localhost:8080/"
        },
        "id": "MQ17SelJDSlD",
        "outputId": "919ba066-f451-4150-99dd-038a8ab82f54"
      },
      "source": [
        "y"
      ],
      "execution_count": 23,
      "outputs": [
        {
          "output_type": "execute_result",
          "data": {
            "text/plain": [
              "array([0, 0, 0, 0, 1, 1, 1, 1, 1, 1])"
            ]
          },
          "metadata": {
            "tags": []
          },
          "execution_count": 23
        }
      ]
    },
    {
      "cell_type": "markdown",
      "metadata": {
        "id": "idCnNDb99pPv"
      },
      "source": [
        "3. Step Three is to Create and Train(or fit) your Model."
      ]
    },
    {
      "cell_type": "code",
      "metadata": {
        "id": "Iph-HzxT9lU-"
      },
      "source": [
        "model = LogisticRegression(solver='liblinear', random_state=0)"
      ],
      "execution_count": 24,
      "outputs": []
    },
    {
      "cell_type": "markdown",
      "metadata": {
        "id": "UbOINVG9GKj0"
      },
      "source": [
        "Once the model is created, you need to fit (or train) it. Model fitting is the process of determining the coefficients 𝑏₀, 𝑏₁, …, 𝑏ᵣ that correspond to the best value of the cost function. You fit the model with .fit():"
      ]
    },
    {
      "cell_type": "code",
      "metadata": {
        "colab": {
          "base_uri": "https://localhost:8080/"
        },
        "id": "S5ru-tZq94Xd",
        "outputId": "72915db5-5373-4a90-b875-d9a82fbed34b"
      },
      "source": [
        "model.fit(x, y)"
      ],
      "execution_count": 25,
      "outputs": [
        {
          "output_type": "execute_result",
          "data": {
            "text/plain": [
              "LogisticRegression(C=1.0, class_weight=None, dual=False, fit_intercept=True,\n",
              "                   intercept_scaling=1, l1_ratio=None, max_iter=100,\n",
              "                   multi_class='auto', n_jobs=None, penalty='l2',\n",
              "                   random_state=0, solver='liblinear', tol=0.0001, verbose=0,\n",
              "                   warm_start=False)"
            ]
          },
          "metadata": {
            "tags": []
          },
          "execution_count": 25
        }
      ]
    },
    {
      "cell_type": "markdown",
      "metadata": {
        "id": "gM4M9MYLGFb7"
      },
      "source": [
        ".fit() takes x, y, and possibly observation-related weights. Then it fits the model and returns the model instance itself:"
      ]
    },
    {
      "cell_type": "code",
      "metadata": {
        "colab": {
          "base_uri": "https://localhost:8080/"
        },
        "id": "V7S8bDRQ955U",
        "outputId": "79378aa0-6a18-491f-9974-0c652019b5ad"
      },
      "source": [
        "LogisticRegression(C=1.0, class_weight=None, dual=False, fit_intercept=True,\r\n",
        "                   intercept_scaling=1, l1_ratio=None, max_iter=100,\r\n",
        "                   multi_class='warn', n_jobs=None, penalty='l2',\r\n",
        "                   random_state=0, solver='liblinear', tol=0.0001, verbose=0,\r\n",
        "                   warm_start=False)"
      ],
      "execution_count": 26,
      "outputs": [
        {
          "output_type": "execute_result",
          "data": {
            "text/plain": [
              "LogisticRegression(C=1.0, class_weight=None, dual=False, fit_intercept=True,\n",
              "                   intercept_scaling=1, l1_ratio=None, max_iter=100,\n",
              "                   multi_class='warn', n_jobs=None, penalty='l2',\n",
              "                   random_state=0, solver='liblinear', tol=0.0001, verbose=0,\n",
              "                   warm_start=False)"
            ]
          },
          "metadata": {
            "tags": []
          },
          "execution_count": 26
        }
      ]
    },
    {
      "cell_type": "code",
      "metadata": {
        "id": "hj7-_Ov09_np"
      },
      "source": [
        "model = LogisticRegression(solver='liblinear', random_state=0).fit(x, y)"
      ],
      "execution_count": 27,
      "outputs": []
    },
    {
      "cell_type": "code",
      "metadata": {
        "colab": {
          "base_uri": "https://localhost:8080/"
        },
        "id": "lpiSFgUQ-HpG",
        "outputId": "63de72be-8443-4ce5-fa65-6281dcade1a0"
      },
      "source": [
        "model.classes_"
      ],
      "execution_count": 28,
      "outputs": [
        {
          "output_type": "execute_result",
          "data": {
            "text/plain": [
              "array([0, 1])"
            ]
          },
          "metadata": {
            "tags": []
          },
          "execution_count": 28
        }
      ]
    },
    {
      "cell_type": "code",
      "metadata": {
        "colab": {
          "base_uri": "https://localhost:8080/"
        },
        "id": "A3ejIXA3-Izf",
        "outputId": "35722655-5b60-404a-9430-11ac8be09e60"
      },
      "source": [
        "model.intercept_"
      ],
      "execution_count": 29,
      "outputs": [
        {
          "output_type": "execute_result",
          "data": {
            "text/plain": [
              "array([-1.04608067])"
            ]
          },
          "metadata": {
            "tags": []
          },
          "execution_count": 29
        }
      ]
    },
    {
      "cell_type": "code",
      "metadata": {
        "colab": {
          "base_uri": "https://localhost:8080/"
        },
        "id": "36sGiRPzFPJb",
        "outputId": "277a7ce8-06ed-442f-dac2-3db3b63e9bf7"
      },
      "source": [
        "model.coef_"
      ],
      "execution_count": 30,
      "outputs": [
        {
          "output_type": "execute_result",
          "data": {
            "text/plain": [
              "array([[0.51491375]])"
            ]
          },
          "metadata": {
            "tags": []
          },
          "execution_count": 30
        }
      ]
    },
    {
      "cell_type": "markdown",
      "metadata": {
        "id": "0jz47LbT-Pxd"
      },
      "source": [
        "4. Step Four is to Evaluate the Model"
      ]
    },
    {
      "cell_type": "code",
      "metadata": {
        "colab": {
          "base_uri": "https://localhost:8080/"
        },
        "id": "fxi6I8CT-NOE",
        "outputId": "b72eae30-2969-4a46-c344-3764c66c6977"
      },
      "source": [
        "model.predict_proba(x)"
      ],
      "execution_count": 31,
      "outputs": [
        {
          "output_type": "execute_result",
          "data": {
            "text/plain": [
              "array([[0.74002157, 0.25997843],\n",
              "       [0.62975524, 0.37024476],\n",
              "       [0.5040632 , 0.4959368 ],\n",
              "       [0.37785549, 0.62214451],\n",
              "       [0.26628093, 0.73371907],\n",
              "       [0.17821501, 0.82178499],\n",
              "       [0.11472079, 0.88527921],\n",
              "       [0.07186982, 0.92813018],\n",
              "       [0.04422513, 0.95577487],\n",
              "       [0.02690569, 0.97309431]])"
            ]
          },
          "metadata": {
            "tags": []
          },
          "execution_count": 31
        }
      ]
    },
    {
      "cell_type": "code",
      "metadata": {
        "colab": {
          "base_uri": "https://localhost:8080/"
        },
        "id": "6jprDEVc-bun",
        "outputId": "1ae28955-3271-48f0-fd5c-a6981691a7ec"
      },
      "source": [
        "model.predict(x)"
      ],
      "execution_count": 32,
      "outputs": [
        {
          "output_type": "execute_result",
          "data": {
            "text/plain": [
              "array([0, 0, 0, 1, 1, 1, 1, 1, 1, 1])"
            ]
          },
          "metadata": {
            "tags": []
          },
          "execution_count": 32
        }
      ]
    },
    {
      "cell_type": "code",
      "metadata": {
        "colab": {
          "base_uri": "https://localhost:8080/"
        },
        "id": "qtzxPcBO-e3a",
        "outputId": "c6215f97-a862-4066-8576-9c84d05599a7"
      },
      "source": [
        "model.score(x, y)"
      ],
      "execution_count": 33,
      "outputs": [
        {
          "output_type": "execute_result",
          "data": {
            "text/plain": [
              "0.9"
            ]
          },
          "metadata": {
            "tags": []
          },
          "execution_count": 33
        }
      ]
    },
    {
      "cell_type": "code",
      "metadata": {
        "colab": {
          "base_uri": "https://localhost:8080/"
        },
        "id": "uRJa3Z1a-iFi",
        "outputId": "fdff5c6f-5d43-4ceb-8be3-25957b4a2644"
      },
      "source": [
        "confusion_matrix(y, model.predict(x))"
      ],
      "execution_count": 34,
      "outputs": [
        {
          "output_type": "execute_result",
          "data": {
            "text/plain": [
              "array([[3, 1],\n",
              "       [0, 6]])"
            ]
          },
          "metadata": {
            "tags": []
          },
          "execution_count": 34
        }
      ]
    },
    {
      "cell_type": "code",
      "metadata": {
        "colab": {
          "base_uri": "https://localhost:8080/"
        },
        "id": "NItaeU4b-lhH",
        "outputId": "bbf24580-9ed8-44c7-b7e3-7dc414b5aefc"
      },
      "source": [
        "print(classification_report(y, model.predict(x)))"
      ],
      "execution_count": 35,
      "outputs": [
        {
          "output_type": "stream",
          "text": [
            "              precision    recall  f1-score   support\n",
            "\n",
            "           0       1.00      0.75      0.86         4\n",
            "           1       0.86      1.00      0.92         6\n",
            "\n",
            "    accuracy                           0.90        10\n",
            "   macro avg       0.93      0.88      0.89        10\n",
            "weighted avg       0.91      0.90      0.90        10\n",
            "\n"
          ],
          "name": "stdout"
        }
      ]
    }
  ]
}